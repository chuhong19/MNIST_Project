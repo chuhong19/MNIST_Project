{
  "nbformat": 4,
  "nbformat_minor": 0,
  "metadata": {
    "colab": {
      "name": "MNIST_Project.ipynb",
      "provenance": [],
      "collapsed_sections": [
        "qGeoeI1VYn0w",
        "oBvC5RUSYwSU",
        "jp_-_crgY3P0",
        "-A5Mvh2AY6Vh"
      ]
    },
    "kernelspec": {
      "name": "python3",
      "display_name": "Python 3"
    },
    "language_info": {
      "name": "python"
    }
  },
  "cells": [
    {
      "cell_type": "markdown",
      "source": [
        "# Import Library\n"
      ],
      "metadata": {
        "id": "qGeoeI1VYn0w"
      }
    },
    {
      "cell_type": "code",
      "source": [
        "import tensorflow as tf\n",
        "import matplotlib.pyplot as plt\n",
        "import numpy as np\n",
        "from tensorflow.keras import Model\n",
        "from tensorflow.keras.models import Sequential\n",
        "from tensorflow.keras.layers import Dense, Flatten, Conv2D, AveragePooling2D"
      ],
      "metadata": {
        "id": "rLVUOGw5YoZv"
      },
      "execution_count": null,
      "outputs": []
    },
    {
      "cell_type": "markdown",
      "source": [
        "# Load MNIST Dataset"
      ],
      "metadata": {
        "id": "oBvC5RUSYwSU"
      }
    },
    {
      "cell_type": "code",
      "source": [
        "mnist = tf.keras.datasets.mnist\n",
        "(x_train, y_train),(x_test, y_test) = mnist.load_data()"
      ],
      "metadata": {
        "colab": {
          "base_uri": "https://localhost:8080/"
        },
        "id": "Ci-qJXQ0OEvn",
        "outputId": "bea7af21-f1d1-4945-ec8e-d3cf69b2c15d"
      },
      "execution_count": null,
      "outputs": [
        {
          "output_type": "stream",
          "name": "stdout",
          "text": [
            "Downloading data from https://storage.googleapis.com/tensorflow/tf-keras-datasets/mnist.npz\n",
            "11493376/11490434 [==============================] - 0s 0us/step\n",
            "11501568/11490434 [==============================] - 0s 0us/step\n"
          ]
        }
      ]
    },
    {
      "cell_type": "markdown",
      "source": [
        "# Train-Test Split"
      ],
      "metadata": {
        "id": "jp_-_crgY3P0"
      }
    },
    {
      "cell_type": "code",
      "source": [
        "x_train = x_train.reshape(x_train.shape[0], 28, 28, 1)\n",
        "x_test = x_test.reshape(x_test.shape[0], 28, 28, 1)"
      ],
      "metadata": {
        "id": "i-wjrlevOJfp"
      },
      "execution_count": null,
      "outputs": []
    },
    {
      "cell_type": "markdown",
      "source": [
        "# Normalize\n"
      ],
      "metadata": {
        "id": "-A5Mvh2AY6Vh"
      }
    },
    {
      "cell_type": "code",
      "source": [
        "x_train = tf.keras.utils.normalize(x_train, axis=1)  \n",
        "x_test = tf.keras.utils.normalize(x_test, axis=1) "
      ],
      "metadata": {
        "id": "PtDSl2PuOLI1"
      },
      "execution_count": null,
      "outputs": []
    },
    {
      "cell_type": "markdown",
      "source": [
        "# Model\n"
      ],
      "metadata": {
        "id": "w5HSiqSWY9RN"
      }
    },
    {
      "cell_type": "code",
      "source": [
        "model = Sequential()\n",
        "model.add(Conv2D(filters=6, kernel_size=(3, 3), activation='tanh', input_shape=(28,28,1)))\n",
        "model.add(AveragePooling2D())\n",
        "model.add(Conv2D(filters=16, kernel_size=(3, 3), activation='tanh'))\n",
        "model.add(AveragePooling2D())\n",
        "model.add(Flatten())\n",
        "model.add(Dense(units=128, activation='tanh'))\n",
        "model.add(Dense(units=10, activation = 'softmax'))\n",
        "model.summary()"
      ],
      "metadata": {
        "colab": {
          "base_uri": "https://localhost:8080/"
        },
        "id": "vCxt8ksoONZC",
        "outputId": "92a90baa-cc47-41ac-8ae3-3963cadeed9a"
      },
      "execution_count": null,
      "outputs": [
        {
          "output_type": "stream",
          "name": "stdout",
          "text": [
            "Model: \"sequential\"\n",
            "_________________________________________________________________\n",
            " Layer (type)                Output Shape              Param #   \n",
            "=================================================================\n",
            " conv2d (Conv2D)             (None, 26, 26, 6)         60        \n",
            "                                                                 \n",
            " average_pooling2d (AverageP  (None, 13, 13, 6)        0         \n",
            " ooling2D)                                                       \n",
            "                                                                 \n",
            " conv2d_1 (Conv2D)           (None, 11, 11, 16)        880       \n",
            "                                                                 \n",
            " average_pooling2d_1 (Averag  (None, 5, 5, 16)         0         \n",
            " ePooling2D)                                                     \n",
            "                                                                 \n",
            " flatten (Flatten)           (None, 400)               0         \n",
            "                                                                 \n",
            " dense (Dense)               (None, 128)               51328     \n",
            "                                                                 \n",
            " dense_1 (Dense)             (None, 10)                1290      \n",
            "                                                                 \n",
            "=================================================================\n",
            "Total params: 53,558\n",
            "Trainable params: 53,558\n",
            "Non-trainable params: 0\n",
            "_________________________________________________________________\n"
          ]
        }
      ]
    },
    {
      "cell_type": "code",
      "source": [
        "model.compile(optimizer='adam',\n",
        "              loss='sparse_categorical_crossentropy',\n",
        "              metrics=['accuracy'])"
      ],
      "metadata": {
        "id": "MFL7vjakOXcJ"
      },
      "execution_count": null,
      "outputs": []
    },
    {
      "cell_type": "markdown",
      "source": [
        "# Train model"
      ],
      "metadata": {
        "id": "zEa6DYVyZHIx"
      }
    },
    {
      "cell_type": "code",
      "source": [
        "H = model.fit(x_train, y_train, \n",
        "          epochs=10, \n",
        "          validation_data=(x_test, y_test))"
      ],
      "metadata": {
        "id": "eSwRwRPMOYg1",
        "colab": {
          "base_uri": "https://localhost:8080/"
        },
        "outputId": "4b125ae7-6a26-4f0a-ec23-0160fdd82965"
      },
      "execution_count": null,
      "outputs": [
        {
          "output_type": "stream",
          "name": "stdout",
          "text": [
            "Epoch 1/10\n",
            "1875/1875 [==============================] - 25s 13ms/step - loss: 0.2983 - accuracy: 0.9126 - val_loss: 0.1449 - val_accuracy: 0.9559\n",
            "Epoch 2/10\n",
            "1875/1875 [==============================] - 23s 12ms/step - loss: 0.1282 - accuracy: 0.9615 - val_loss: 0.0981 - val_accuracy: 0.9693\n",
            "Epoch 3/10\n",
            "1875/1875 [==============================] - 24s 13ms/step - loss: 0.0904 - accuracy: 0.9734 - val_loss: 0.0810 - val_accuracy: 0.9745\n",
            "Epoch 4/10\n",
            "1875/1875 [==============================] - 24s 13ms/step - loss: 0.0682 - accuracy: 0.9792 - val_loss: 0.0691 - val_accuracy: 0.9774\n",
            "Epoch 5/10\n",
            "1875/1875 [==============================] - 24s 13ms/step - loss: 0.0548 - accuracy: 0.9833 - val_loss: 0.0644 - val_accuracy: 0.9794\n",
            "Epoch 6/10\n",
            "1875/1875 [==============================] - 24s 13ms/step - loss: 0.0455 - accuracy: 0.9858 - val_loss: 0.0570 - val_accuracy: 0.9821\n",
            "Epoch 7/10\n",
            "1875/1875 [==============================] - 24s 13ms/step - loss: 0.0377 - accuracy: 0.9886 - val_loss: 0.0558 - val_accuracy: 0.9825\n",
            "Epoch 8/10\n",
            "1875/1875 [==============================] - 24s 13ms/step - loss: 0.0315 - accuracy: 0.9902 - val_loss: 0.0518 - val_accuracy: 0.9820\n",
            "Epoch 9/10\n",
            "1875/1875 [==============================] - 24s 13ms/step - loss: 0.0270 - accuracy: 0.9920 - val_loss: 0.0522 - val_accuracy: 0.9832\n",
            "Epoch 10/10\n",
            "1875/1875 [==============================] - 24s 13ms/step - loss: 0.0226 - accuracy: 0.9932 - val_loss: 0.0499 - val_accuracy: 0.9847\n"
          ]
        }
      ]
    }
  ]
}